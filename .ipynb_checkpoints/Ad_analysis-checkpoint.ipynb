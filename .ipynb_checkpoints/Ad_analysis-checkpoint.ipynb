{
 "cells": [
  {
   "cell_type": "markdown",
   "metadata": {},
   "source": [
    "## Analyzing ~90 gb Ad clicks data using Spark2.1, pandas and SQL/Hive\n",
    "\n",
    "In this notebook, I leverage the power of a Spark cluster to explore the large (~90 GB) page_views.csv dataset and analyze its relationshiop with events.csv in the Kaggle - Outbrain Click Prediction challenge .\n",
    "We answer questions like: <br>\n",
    "- How to join page_views.csv and events.csv?<br>\n",
    "- Is events.csv a subset of page_views.csv?<br>\n",
    "- Are there additional page views for users in events.csv?<br>\n",
    "\n",
    "\n",
    "## Dependencies\n",
    "pySpark 2.1\n",
    "Pandas and Matplotlib - Only on master node <br>"
   ]
  },
  {
   "cell_type": "code",
   "execution_count": null,
   "metadata": {
    "collapsed": false
   },
   "outputs": [],
   "source": [
    "import findspark\n",
    "findspark.init()"
   ]
  },
  {
   "cell_type": "code",
   "execution_count": null,
   "metadata": {
    "collapsed": false
   },
   "outputs": [],
   "source": [
    "findspark.find()"
   ]
  },
  {
   "cell_type": "code",
   "execution_count": null,
   "metadata": {
    "collapsed": false,
    "scrolled": true
   },
   "outputs": [],
   "source": [
    "#import pyspark"
   ]
  },
  {
   "cell_type": "code",
   "execution_count": null,
   "metadata": {
    "collapsed": true
   },
   "outputs": [],
   "source": [
    "from pyspark.sql import *\n",
    "#dir(pyspark.sql)"
   ]
  },
  {
   "cell_type": "code",
   "execution_count": null,
   "metadata": {
    "collapsed": false
   },
   "outputs": [],
   "source": [
    "from pyspark.sql.types import *\n",
    "import pyspark.sql.functions as F"
   ]
  },
  {
   "cell_type": "markdown",
   "metadata": {},
   "source": [
    "## Analyzing page views"
   ]
  },
  {
   "cell_type": "code",
   "execution_count": null,
   "metadata": {
    "collapsed": false
   },
   "outputs": [],
   "source": [
    "spark = (SparkSession.builder\\\n",
    "                    .master(\"local[*]\")\\\n",
    "                    #.config(\"spark.sql.warehouse.dir\", \"target/spark-warehouse\")\\\n",
    "                    .appName(\"Ad analysis\")\\\n",
    "                    .enableHiveSupport()\\\n",
    "                    .getOrCreate())"
   ]
  },
  {
   "cell_type": "code",
   "execution_count": null,
   "metadata": {
    "collapsed": false
   },
   "outputs": [],
   "source": [
    "spark.sparkContext.defaultParallelism"
   ]
  },
  {
   "cell_type": "markdown",
   "metadata": {},
   "source": [
    "### Reading file from hadoop/hdfs/local-fs"
   ]
  },
  {
   "cell_type": "code",
   "execution_count": null,
   "metadata": {
    "collapsed": false
   },
   "outputs": [],
   "source": [
    "page_views_schema = StructType(\n",
    "                    [StructField(\"uuid\", StringType(), True),\n",
    "                    StructField(\"document_id\", IntegerType(), True),\n",
    "                    StructField(\"timestamp\", IntegerType(), True),\n",
    "                    StructField(\"platform\", IntegerType(), True),\n",
    "                    StructField(\"geo_location\", StringType(), True),\n",
    "                    StructField(\"traffic_source\", IntegerType(), True)]\n",
    "                    )\n",
    "\n",
    "page_views_df = (spark.read.schema(page_views_schema)\n",
    "                 .options(header='true', inferschema='false', nullValue='\\\\N')\n",
    "                .csv(\"data/page_views.csv\")) #.csv(\"hdfs:<path>\")"
   ]
  },
  {
   "cell_type": "markdown",
   "metadata": {},
   "source": [
    "### See first 10 rows"
   ]
  },
  {
   "cell_type": "code",
   "execution_count": null,
   "metadata": {
    "collapsed": false
   },
   "outputs": [],
   "source": [
    "page_views_df.show(10)"
   ]
  },
  {
   "cell_type": "markdown",
   "metadata": {},
   "source": [
    "```\n",
    "page_views.csv is a the log of users visiting documents. To save disk space, the timestamps in the entire dataset are relative to the first time in the dataset. If you wish to recover the actual epoch time of the visit, add 1465876799998 to the timestamp.\n",
    "\n",
    "    uuid\n",
    "    document_id\n",
    "    timestamp (ms since 1970-01-01 - 1465876799998)\n",
    "    platform (desktop = 1, mobile = 2, tablet =3)\n",
    "    geo_location (country>state>DMA)\n",
    "    traffic_source (internal = 1, search = 2, social = 3)\n",
    "```"
   ]
  },
  {
   "cell_type": "code",
   "execution_count": null,
   "metadata": {
    "collapsed": false
   },
   "outputs": [],
   "source": [
    "page_views_df.rdd.getNumPartitions()"
   ]
  },
  {
   "cell_type": "code",
   "execution_count": null,
   "metadata": {
    "collapsed": false
   },
   "outputs": [],
   "source": [
    "%time page_views_df.count() # 43 mil vs 10 mil"
   ]
  },
  {
   "cell_type": "code",
   "execution_count": null,
   "metadata": {
    "collapsed": false
   },
   "outputs": [],
   "source": [
    "%time page_views_timestamp_stats_df = page_views_df.describe('timestamp')"
   ]
  },
  {
   "cell_type": "code",
   "execution_count": null,
   "metadata": {
    "collapsed": false
   },
   "outputs": [],
   "source": [
    "page_views_timestamp_stats = page_views_timestamp_stats_df.rdd.collectAsMap()\n",
    "page_views_timestamp_stats"
   ]
  },
  {
   "cell_type": "code",
   "execution_count": null,
   "metadata": {
    "collapsed": false
   },
   "outputs": [],
   "source": [
    "page_views_count = int(page_views_timestamp_stats['count'])\n",
    "page_views_count"
   ]
  },
  {
   "cell_type": "markdown",
   "metadata": {},
   "source": [
    "### Understanding date ranges & time"
   ]
  },
  {
   "cell_type": "markdown",
   "metadata": {},
   "source": [
    "We can see below that dataset contains only page views between 2016-06-14 and 2016-06-28. As min and max timestamp in dataset are at about 4am, it suggests that dates are in UTC and the dataset days were filtered according to UTC-4 (Eastern Time - EST)...<br>\n",
    "To further model users preferences, it would be nice if we had in this dataset the full log of previous users pages visits, who had at least an event between that period (2016-06-14 and 2016-06-28)."
   ]
  },
  {
   "cell_type": "code",
   "execution_count": 198,
   "metadata": {
    "collapsed": true
   },
   "outputs": [],
   "source": [
    "import datetime\n",
    "def convert_odd_timestamp(timestamp_ms_relative):\n",
    "    TIMESTAMP_DELTA=1465876799998\n",
    "    return datetime.datetime.fromtimestamp((int(timestamp_ms_relative)+TIMESTAMP_DELTA)//1000)"
   ]
  },
  {
   "cell_type": "code",
   "execution_count": 199,
   "metadata": {
    "collapsed": false
   },
   "outputs": [
    {
     "name": "stdout",
     "output_type": "stream",
     "text": [
      "2016-06-13 20:59:59\n"
     ]
    }
   ],
   "source": [
    "print convert_odd_timestamp(page_views_timestamp_stats['min'])"
   ]
  },
  {
   "cell_type": "code",
   "execution_count": 200,
   "metadata": {
    "collapsed": false
   },
   "outputs": [
    {
     "name": "stdout",
     "output_type": "stream",
     "text": [
      "2016-06-14 20:59:59\n"
     ]
    }
   ],
   "source": [
    "print convert_odd_timestamp(page_views_timestamp_stats['max'])"
   ]
  },
  {
   "cell_type": "markdown",
   "metadata": {
    "collapsed": true
   },
   "source": [
    "## page views by user"
   ]
  },
  {
   "cell_type": "code",
   "execution_count": 201,
   "metadata": {
    "collapsed": true
   },
   "outputs": [],
   "source": [
    "import pandas as pd"
   ]
  },
  {
   "cell_type": "code",
   "execution_count": null,
   "metadata": {
    "collapsed": true
   },
   "outputs": [],
   "source": [
    "#grouping page views by user and counting\n",
    "page_views_by_user = page_views_df.groupBy('uuid').count()\n",
    "# now we have \"uuid_1 -> view_count\""
   ]
  },
  {
   "cell_type": "code",
   "execution_count": null,
   "metadata": {
    "collapsed": false
   },
   "outputs": [],
   "source": [
    "# see distribution of page_views\n",
    "page_views_by_user_distribution = page_views_by_user.select('count').groupby('count').count()"
   ]
  },
  {
   "cell_type": "code",
   "execution_count": null,
   "metadata": {
    "collapsed": false
   },
   "outputs": [],
   "source": [
    "#convert spark df -> pandas df for plotting\n",
    "%time page_views_by_user_pd = page_views_by_user_distribution.toPandas()"
   ]
  },
  {
   "cell_type": "code",
   "execution_count": null,
   "metadata": {
    "collapsed": false
   },
   "outputs": [],
   "source": [
    "len(page_views_by_user)"
   ]
  },
  {
   "cell_type": "code",
   "execution_count": null,
   "metadata": {
    "collapsed": false
   },
   "outputs": [],
   "source": [
    "page_views_by_user_pd.columns = ['pageViewsByUser','userCount']\n",
    "page_views_by_user_pd = page_views_by_user_pd.set_index('pageViewsByUser').sort_index()\n",
    "page_views_by_user_pd.head()"
   ]
  },
  {
   "cell_type": "markdown",
   "metadata": {},
   "source": [
    "### Distinct users count"
   ]
  },
  {
   "cell_type": "code",
   "execution_count": null,
   "metadata": {
    "collapsed": false
   },
   "outputs": [],
   "source": [
    "distinct_users = page_views_by_user_pd.userCount.sum()\n",
    "distinct_users"
   ]
  },
  {
   "cell_type": "markdown",
   "metadata": {},
   "source": [
    "### Average page views by users"
   ]
  },
  {
   "cell_type": "code",
   "execution_count": null,
   "metadata": {
    "collapsed": false
   },
   "outputs": [],
   "source": [
    "avg_page_views_user = page_views_count / float(distinct_users)\n",
    "avg_page_views_user"
   ]
  },
  {
   "cell_type": "code",
   "execution_count": null,
   "metadata": {
    "collapsed": true
   },
   "outputs": [],
   "source": [
    "import seaborn as sns\n",
    "%matplotlib inline"
   ]
  },
  {
   "cell_type": "code",
   "execution_count": null,
   "metadata": {
    "collapsed": false
   },
   "outputs": [],
   "source": [
    "page_views_by_user_pd.describe()"
   ]
  },
  {
   "cell_type": "code",
   "execution_count": null,
   "metadata": {
    "collapsed": false
   },
   "outputs": [],
   "source": [
    "page_views_by_user_pd.head(20).plot.bar(y='userCount')"
   ]
  },
  {
   "cell_type": "markdown",
   "metadata": {},
   "source": [
    "#### the cumulative percentual of users with at most N page views"
   ]
  },
  {
   "cell_type": "code",
   "execution_count": null,
   "metadata": {
    "collapsed": false
   },
   "outputs": [],
   "source": [
    "page_views_by_user_pd['cum_perc_UserCount'] = (page_views_by_user_pd['userCount'].cumsum()/distinct_users) * 100"
   ]
  },
  {
   "cell_type": "code",
   "execution_count": null,
   "metadata": {
    "collapsed": false
   },
   "outputs": [],
   "source": [
    "page_views_by_user_pd.head(8)\n",
    "#page_views_by_user_pd.drop('cumUserCount', axis = 1, inplace=True)"
   ]
  },
  {
   "cell_type": "markdown",
   "metadata": {},
   "source": [
    "We see that 80% of users have 1 page views, 94% have atmost 2 page views etc.. Let\n",
    "s plot this. "
   ]
  },
  {
   "cell_type": "code",
   "execution_count": 165,
   "metadata": {
    "collapsed": false
   },
   "outputs": [
    {
     "data": {
      "text/plain": [
       "<matplotlib.axes._subplots.AxesSubplot at 0x118f884d0>"
      ]
     },
     "execution_count": 165,
     "metadata": {},
     "output_type": "execute_result"
    },
    {
     "data": {
      "image/png": "[encoded data removed]",
      "text/plain": [
       "<matplotlib.figure.Figure at 0x116d8bc10>"
      ]
     },
     "metadata": {},
     "output_type": "display_data"
    }
   ],
   "source": [
    "page_views_by_user_pd.head(10).plot.line(y='cum_perc_UserCount')"
   ]
  },
  {
   "cell_type": "markdown",
   "metadata": {},
   "source": [
    "### Page views by platform"
   ]
  },
  {
   "cell_type": "code",
   "execution_count": null,
   "metadata": {
    "collapsed": true
   },
   "outputs": [],
   "source": [
    "page_views_by_platform_pd = page_views_df.groupBy('platform').count().toPandas()"
   ]
  },
  {
   "cell_type": "code",
   "execution_count": null,
   "metadata": {
    "collapsed": false
   },
   "outputs": [],
   "source": [
    "page_views_by_platform_pd = page_views_by_platform_pd.set_index('platform').sort_index()\n",
    "page_views_by_platform_pd"
   ]
  },
  {
   "cell_type": "markdown",
   "metadata": {},
   "source": [
    "### Distribution of page views by platform"
   ]
  },
  {
   "cell_type": "code",
   "execution_count": 166,
   "metadata": {
    "collapsed": false
   },
   "outputs": [],
   "source": [
    "import plotly\n",
    "plotly.__version__\n",
    "plotly.tools.set_credentials_file(username='modqhx', api_key='PcHq63cYg47FcTsU7Uwx')"
   ]
  },
  {
   "cell_type": "code",
   "execution_count": 167,
   "metadata": {
    "collapsed": false,
    "scrolled": false
   },
   "outputs": [
    {
     "data": {
      "text/html": [
       "<iframe id=\"igraph\" scrolling=\"no\" style=\"border:none;\" seamless=\"seamless\" src=\"https://plot.ly/~modqhx/37.embed\" height=\"525px\" width=\"100%\"></iframe>"
      ],
      "text/plain": [
       "<plotly.tools.PlotlyDisplay object>"
      ]
     },
     "execution_count": 167,
     "metadata": {},
     "output_type": "execute_result"
    }
   ],
   "source": [
    "labels = ['Desktop(1)', 'Mobile(2)', 'Tablet(3)']\n",
    "trace=go.Pie(labels=labels,values=page_views_by_platform_pd['count'])\n",
    "py.iplot([trace])"
   ]
  },
  {
   "cell_type": "markdown",
   "metadata": {},
   "source": [
    "## Distribution of page views by platform"
   ]
  },
  {
   "cell_type": "code",
   "execution_count": 168,
   "metadata": {
    "collapsed": false
   },
   "outputs": [
    {
     "name": "stdout",
     "output_type": "stream",
     "text": [
      "CPU times: user 4.45 ms, sys: 3.87 ms, total: 8.32 ms\n",
      "Wall time: 10 s\n"
     ]
    }
   ],
   "source": [
    "%time page_views_by_traffic_pd = page_views_df.groupBy('traffic_source').count().toPandas()"
   ]
  },
  {
   "cell_type": "code",
   "execution_count": 169,
   "metadata": {
    "collapsed": false
   },
   "outputs": [
    {
     "data": {
      "text/html": [
       "<div>\n",
       "<table border=\"1\" class=\"dataframe\">\n",
       "  <thead>\n",
       "    <tr style=\"text-align: right;\">\n",
       "      <th></th>\n",
       "      <th>traffic_source</th>\n",
       "      <th>count</th>\n",
       "    </tr>\n",
       "  </thead>\n",
       "  <tbody>\n",
       "    <tr>\n",
       "      <th>0</th>\n",
       "      <td>1</td>\n",
       "      <td>28200084</td>\n",
       "    </tr>\n",
       "    <tr>\n",
       "      <th>1</th>\n",
       "      <td>3</td>\n",
       "      <td>7846185</td>\n",
       "    </tr>\n",
       "    <tr>\n",
       "      <th>2</th>\n",
       "      <td>2</td>\n",
       "      <td>7325804</td>\n",
       "    </tr>\n",
       "  </tbody>\n",
       "</table>\n",
       "</div>"
      ],
      "text/plain": [
       "   traffic_source     count\n",
       "0               1  28200084\n",
       "1               3   7846185\n",
       "2               2   7325804"
      ]
     },
     "execution_count": 169,
     "metadata": {},
     "output_type": "execute_result"
    }
   ],
   "source": [
    "page_views_by_traffic_pd"
   ]
  },
  {
   "cell_type": "code",
   "execution_count": 170,
   "metadata": {
    "collapsed": false
   },
   "outputs": [
    {
     "data": {
      "text/html": [
       "<iframe id=\"igraph\" scrolling=\"no\" style=\"border:none;\" seamless=\"seamless\" src=\"https://plot.ly/~modqhx/39.embed\" height=\"525px\" width=\"100%\"></iframe>"
      ],
      "text/plain": [
       "<plotly.tools.PlotlyDisplay object>"
      ]
     },
     "execution_count": 170,
     "metadata": {},
     "output_type": "execute_result"
    }
   ],
   "source": [
    "labels = ['Internal(1)', 'Search(2)', 'Social(3)']\n",
    "trace=go.Pie(labels=labels,values=page_views_by_traffic_pd['count'])\n",
    "py.iplot([trace])"
   ]
  },
  {
   "cell_type": "markdown",
   "metadata": {},
   "source": [
    "### Users visting more than once"
   ]
  },
  {
   "cell_type": "markdown",
   "metadata": {},
   "source": [
    "Numbers of users visiting a page more than once = "
   ]
  },
  {
   "cell_type": "code",
   "execution_count": 171,
   "metadata": {
    "collapsed": true
   },
   "outputs": [],
   "source": [
    "page_views_by_user_doc = page_views_df.groupBy(['uuid', 'document_id']).count().alias('count')"
   ]
  },
  {
   "cell_type": "code",
   "execution_count": 172,
   "metadata": {
    "collapsed": false
   },
   "outputs": [
    {
     "name": "stdout",
     "output_type": "stream",
     "text": [
      "+--------------+-----------+-----+\n",
      "|          uuid|document_id|count|\n",
      "+--------------+-----------+-----+\n",
      "|99bb9fcf17e45f|       7012|    1|\n",
      "|39d4b575dba176|       7012|    1|\n",
      "|efae046385ebbd|       7012|    1|\n",
      "|7ff3b97075df96|       7012|    1|\n",
      "|6350f38ceb9190|       7702|    1|\n",
      "|e1000356d14f9a|      10653|    1|\n",
      "|ccff60dcc4bf10|      14343|    1|\n",
      "|964a2ba483f7d2|      22181|    1|\n",
      "|9fd54bcdc2579e|      25345|    1|\n",
      "|aae6099cb0c2ca|      25529|    1|\n",
      "+--------------+-----------+-----+\n",
      "only showing top 10 rows\n",
      "\n"
     ]
    }
   ],
   "source": [
    "page_views_by_user_doc.show(10)"
   ]
  },
  {
   "cell_type": "markdown",
   "metadata": {},
   "source": [
    "----"
   ]
  },
  {
   "cell_type": "markdown",
   "metadata": {},
   "source": [
    "![alt tag](https://kaggle2.blob.core.windows.net/competitions/kaggle/5497/media/page_view.png)"
   ]
  },
  {
   "cell_type": "markdown",
   "metadata": {},
   "source": [
    "# Joining data with events"
   ]
  },
  {
   "cell_type": "code",
   "execution_count": null,
   "metadata": {
    "collapsed": true
   },
   "outputs": [],
   "source": [
    "events_schema = StructType(\n",
    "                    [StructField(\"display_id\", IntegerType(), True),\n",
    "                    StructField(\"uuid\", StringType(), True),\n",
    "                    StructField(\"document_id\", IntegerType(), True),\n",
    "                    StructField(\"timestamp\", IntegerType(), True),\n",
    "                    StructField(\"platform\", IntegerType(), True),\n",
    "                    StructField(\"geo_location\", StringType(), True)]\n",
    "                    )\n",
    "\n",
    "events_df = spark.read \\\n",
    "            .schema(events_schema) \\\n",
    "            .options(header='true', inferschema='false', nullValue='\\\\N') \\\n",
    "            .csv(\"data/events.csv\")"
   ]
  },
  {
   "cell_type": "markdown",
   "metadata": {},
   "source": [
    "### the dataset tells you what's happening when user clicked on some ad"
   ]
  },
  {
   "cell_type": "code",
   "execution_count": 173,
   "metadata": {
    "collapsed": false
   },
   "outputs": [
    {
     "data": {
      "text/plain": [
       "10"
      ]
     },
     "execution_count": 173,
     "metadata": {},
     "output_type": "execute_result"
    }
   ],
   "source": [
    "events_df.rdd.getNumPartitions()"
   ]
  },
  {
   "cell_type": "code",
   "execution_count": 174,
   "metadata": {
    "collapsed": false
   },
   "outputs": [
    {
     "name": "stdout",
     "output_type": "stream",
     "text": [
      "+----------+--------------+-----------+---------+--------+------------+----------+\n",
      "|display_id|          uuid|document_id|timestamp|platform|geo_location|dummyEvent|\n",
      "+----------+--------------+-----------+---------+--------+------------+----------+\n",
      "|         1|cb8c55702adb93|     379743|       61|       3|   US>SC>519|         1|\n",
      "|         2|79a85fa78311b9|    1794259|       81|       2|   US>CA>807|         1|\n",
      "|         3|822932ce3d8757|    1179111|      182|       2|   US>MI>505|         1|\n",
      "|         4|85281d0a49f7ac|    1777797|      234|       2|   US>WV>564|         1|\n",
      "|         5|8d0daef4bf5b56|     252458|      338|       2|       SG>00|         1|\n",
      "|         6|7765b4faae4ad4|    1773517|      395|       3|   US>OH>510|         1|\n",
      "|         7|2cc3f6457d16da|    1149661|      602|       2|   US>MT>762|         1|\n",
      "|         8|166fc654d73c98|    1330329|      638|       2|   US>PA>566|         1|\n",
      "|         9|9dddccf70f6067|    1772126|      667|       1|   US>FL>528|         1|\n",
      "|        10|b09a0e92aa4d17|     157455|      693|       1|          US|         1|\n",
      "+----------+--------------+-----------+---------+--------+------------+----------+\n",
      "only showing top 10 rows\n",
      "\n"
     ]
    }
   ],
   "source": [
    "events_df.show(10)"
   ]
  },
  {
   "cell_type": "code",
   "execution_count": 175,
   "metadata": {
    "collapsed": false
   },
   "outputs": [
    {
     "name": "stdout",
     "output_type": "stream",
     "text": [
      "CPU times: user 871 µs, sys: 721 µs, total: 1.59 ms\n",
      "Wall time: 7.1 s\n"
     ]
    },
    {
     "data": {
      "text/plain": [
       "23120126"
      ]
     },
     "execution_count": 175,
     "metadata": {},
     "output_type": "execute_result"
    }
   ],
   "source": [
    "%time events_count = events_df.count()\n",
    "events_count"
   ]
  },
  {
   "cell_type": "markdown",
   "metadata": {},
   "source": [
    "### Distinct users"
   ]
  },
  {
   "cell_type": "code",
   "execution_count": null,
   "metadata": {
    "collapsed": false
   },
   "outputs": [],
   "source": [
    "distinct_event_users = events_df.agg(F.countDistinct(\"uuid\").alias('count')).collect()[0]['count']"
   ]
  },
  {
   "cell_type": "code",
   "execution_count": 176,
   "metadata": {
    "collapsed": false
   },
   "outputs": [
    {
     "data": {
      "text/plain": [
       "19794967"
      ]
     },
     "execution_count": 176,
     "metadata": {},
     "output_type": "execute_result"
    }
   ],
   "source": [
    "distinct_event_users"
   ]
  },
  {
   "cell_type": "markdown",
   "metadata": {},
   "source": [
    "### Average events by user"
   ]
  },
  {
   "cell_type": "code",
   "execution_count": 177,
   "metadata": {
    "collapsed": false
   },
   "outputs": [
    {
     "data": {
      "text/plain": [
       "1.1679800223966021"
      ]
     },
     "execution_count": 177,
     "metadata": {},
     "output_type": "execute_result"
    }
   ],
   "source": [
    "avg_events_by_user = events_count / float(distinct_event_users)\n",
    "avg_events_by_user"
   ]
  },
  {
   "cell_type": "markdown",
   "metadata": {},
   "source": [
    "### Create dummy variables for joining datasets"
   ]
  },
  {
   "cell_type": "markdown",
   "metadata": {},
   "source": [
    "The dummy cols can help us identify if there is a match between the 2 tables/2 dataframes"
   ]
  },
  {
   "cell_type": "code",
   "execution_count": null,
   "metadata": {
    "collapsed": true
   },
   "outputs": [],
   "source": [
    "page_views_df = page_views_df.withColumn('dummyPageView', F.lit(1))\n",
    "events_df = events_df.withColumn('dummyEvent', F.lit(1))"
   ]
  },
  {
   "cell_type": "code",
   "execution_count": 178,
   "metadata": {
    "collapsed": false
   },
   "outputs": [
    {
     "name": "stdout",
     "output_type": "stream",
     "text": [
      "+--------------+-----------+---------+--------+------------+--------------+-------------+\n",
      "|          uuid|document_id|timestamp|platform|geo_location|traffic_source|dummyPageView|\n",
      "+--------------+-----------+---------+--------+------------+--------------+-------------+\n",
      "|1fd5f051fba643|        120| 31905835|       1|          RS|             2|            1|\n",
      "|8557aa9004be3b|        120| 32053104|       1|       VN>44|             2|            1|\n",
      "|c351b277a358f0|        120| 54013023|       1|       KR>12|             1|            1|\n",
      "|8205775c5387f9|        120| 44196592|       1|       IN>16|             2|            1|\n",
      "|9cb0ccd8458371|        120| 65817371|       1|   US>CA>807|             2|            1|\n",
      "+--------------+-----------+---------+--------+------------+--------------+-------------+\n",
      "only showing top 5 rows\n",
      "\n"
     ]
    }
   ],
   "source": [
    "page_views_df.show(5)"
   ]
  },
  {
   "cell_type": "markdown",
   "metadata": {},
   "source": [
    "## Outer Join between events and page_views on uuid and doc_id"
   ]
  },
  {
   "cell_type": "code",
   "execution_count": null,
   "metadata": {
    "collapsed": false
   },
   "outputs": [],
   "source": [
    "page_views_join_events = page_views_df.alias('page_views').join(events_df.alias('events'), on = ['uuid', 'document_id'], how='outer')"
   ]
  },
  {
   "cell_type": "code",
   "execution_count": 179,
   "metadata": {
    "collapsed": false
   },
   "outputs": [
    {
     "data": {
      "text/plain": [
       "65963349"
      ]
     },
     "execution_count": 179,
     "metadata": {},
     "output_type": "execute_result"
    }
   ],
   "source": [
    "page_views_join_events.count()"
   ]
  },
  {
   "cell_type": "markdown",
   "metadata": {},
   "source": [
    "### In the matches (uuid, document_id) table below, we can see that for (uuid=10012c47f7317b, document_id=2897953) there are two records on Page Views (left side), but only one record in Events (right side), repeated with display_id=21485757.\n",
    "As the fields platform (3) and geo_location (US>CO>751) are also equal, this suggests that timestamp is important when joining page views and events, as the user might visit a page more than once, at different times."
   ]
  },
  {
   "cell_type": "markdown",
   "metadata": {},
   "source": [
    "Outer join of page_views with events can show users who came but did not click, or do some 'event' on the page."
   ]
  },
  {
   "cell_type": "code",
   "execution_count": null,
   "metadata": {
    "collapsed": false
   },
   "outputs": [],
   "source": [
    "%time page_views_join_events_filter = page_views_join_events.filter('dummyPageView is not null and dummyEvent is not null')"
   ]
  },
  {
   "cell_type": "code",
   "execution_count": 164,
   "metadata": {
    "collapsed": false
   },
   "outputs": [
    {
     "data": {
      "text/plain": [
       "561168"
      ]
     },
     "execution_count": 164,
     "metadata": {},
     "output_type": "execute_result"
    }
   ],
   "source": [
    "page_views_join_events_filter.count()"
   ]
  },
  {
   "cell_type": "code",
   "execution_count": 180,
   "metadata": {
    "collapsed": false
   },
   "outputs": [
    {
     "name": "stdout",
     "output_type": "stream",
     "text": [
      "+--------------+-----------+---------+--------+------------+--------------+-------------+----------+---------+--------+------------+----------+\n",
      "|          uuid|document_id|timestamp|platform|geo_location|traffic_source|dummyPageView|display_id|timestamp|platform|geo_location|dummyEvent|\n",
      "+--------------+-----------+---------+--------+------------+--------------+-------------+----------+---------+--------+------------+----------+\n",
      "|1048c6f1b705d5|    1796200|  5811674|       1|       CA>BC|             1|            1|     70321|  5811674|       1|       CA>BC|         1|\n",
      "|105bf8d16df006|    1861497| 65532674|       2|   US>PA>504|             3|            1|   1083022| 65532674|       2|   US>PA>504|         1|\n",
      "|1062bb8c3f8997|    1446279| 57193872|       2|          US|             1|            1|    906187| 57193872|       2|          US|         1|\n",
      "|107d782db58ecd|      60164| 36055596|       1|   US>TX>641|             1|            1|    990347| 60990241|       1|   US>TX>641|         1|\n",
      "|1081cffeaf300a|    1594725| 27294877|       3|   US>AR>670|             1|            1|    280623| 27502632|       3|   US>AR>670|         1|\n",
      "|10920b926af7d1|    1506767| 80281608|       3|   US>CA>825|             1|            1|   1343335| 80338993|       3|   US>CA>825|         1|\n",
      "|10ad80c5404191|    1788351|  3059977|       3|   US>CA>803|             3|            1|     40386|  3059977|       3|   US>CA>803|         1|\n",
      "|10c7abb1208431|    1690647| 42901115|       2|   US>LA>622|             1|            1|  16978369| 42901115|       2|   US>LA>622|         1|\n",
      "|10c8c0d0cdd183|    1711369| 54166581|       2|   US>IL>602|             1|            1|    838886| 54166581|       2|   US>IL>602|         1|\n",
      "|10d5f6e5588450|    1767390| 62268660|       1|   US>GA>524|             1|            1|   1017278| 62268660|       1|   US>GA>524|         1|\n",
      "+--------------+-----------+---------+--------+------------+--------------+-------------+----------+---------+--------+------------+----------+\n",
      "only showing top 10 rows\n",
      "\n",
      "CPU times: user 3.43 ms, sys: 2.69 ms, total: 6.12 ms\n",
      "Wall time: 41.2 s\n"
     ]
    }
   ],
   "source": [
    "#page_views_join_events_filter[['events.timestamp', 'page_views.timestamp']].show(10)\n",
    "%time page_views_join_events_filter.show(10)"
   ]
  },
  {
   "cell_type": "markdown",
   "metadata": {},
   "source": [
    "### Analyzing diff in timestamps using spark UDF's"
   ]
  },
  {
   "cell_type": "code",
   "execution_count": 203,
   "metadata": {
    "collapsed": true
   },
   "outputs": [],
   "source": [
    "diff_between_page_views_events_timestamps_udf = F.udf(lambda event_ts, page_view_ts: round(abs((convert_odd_timestamp(event_ts) - convert_odd_timestamp(page_view_ts)).total_seconds())), IntegerType())"
   ]
  },
  {
   "cell_type": "code",
   "execution_count": 207,
   "metadata": {
    "collapsed": false
   },
   "outputs": [
    {
     "name": "stdout",
     "output_type": "stream",
     "text": [
      "-8339.0\n"
     ]
    }
   ],
   "source": [
    "import datetime\n",
    "q = (convert_odd_timestamp(57193872) - convert_odd_timestamp(65532674)).total_seconds()\n",
    "print q"
   ]
  },
  {
   "cell_type": "code",
   "execution_count": 204,
   "metadata": {
    "collapsed": false
   },
   "outputs": [
    {
     "data": {
      "text/plain": [
       "<pyspark.sql.functions.UserDefinedFunction at 0x118f298d0>"
      ]
     },
     "execution_count": 204,
     "metadata": {},
     "output_type": "execute_result"
    }
   ],
   "source": [
    "diff_between_page_views_events_timestamps_udf"
   ]
  },
  {
   "cell_type": "markdown",
   "metadata": {},
   "source": [
    "### How fast a action is taken once on a page once a user has arrived on a page? = abs(event.timestamp - page_view.timestamp)"
   ]
  },
  {
   "cell_type": "code",
   "execution_count": 205,
   "metadata": {
    "collapsed": true
   },
   "outputs": [],
   "source": [
    "page_view_events_matches_with_delta_ts_df = ( page_views_join_events_filter \\\n",
    "                                        .withColumn('timestamp_delta_secs', \\\n",
    "                                                    diff_between_page_views_events_timestamps_udf('events.timestamp', 'page_views.timestamp')))\n",
    "                                        .select('timestamp_delta_secs'))"
   ]
  },
  {
   "cell_type": "code",
   "execution_count": 206,
   "metadata": {
    "collapsed": false,
    "scrolled": true
   },
   "outputs": [
    {
     "name": "stdout",
     "output_type": "stream",
     "text": [
      "+--------------+-----------+---------+--------+------------+--------------+-------------+----------+----------+--------+------------+----------+--------------------+\n",
      "|          uuid|document_id|timestamp|platform|geo_location|traffic_source|dummyPageView|display_id| timestamp|platform|geo_location|dummyEvent|timestamp_delta_secs|\n",
      "+--------------+-----------+---------+--------+------------+--------------+-------------+----------+----------+--------+------------+----------+--------------------+\n",
      "|1048c6f1b705d5|    1796200|  5811674|       1|       CA>BC|             1|            1|     70321|   5811674|       1|       CA>BC|         1|                null|\n",
      "|105bf8d16df006|    1861497| 65532674|       2|   US>PA>504|             3|            1|   1083022|  65532674|       2|   US>PA>504|         1|                null|\n",
      "|1062bb8c3f8997|    1446279| 57193872|       2|          US|             1|            1|    906187|  57193872|       2|          US|         1|                null|\n",
      "|107d782db58ecd|      60164| 36055596|       1|   US>TX>641|             1|            1|    990347|  60990241|       1|   US>TX>641|         1|                null|\n",
      "|1081cffeaf300a|    1594725| 27294877|       3|   US>AR>670|             1|            1|    280623|  27502632|       3|   US>AR>670|         1|                null|\n",
      "|10920b926af7d1|    1506767| 80281608|       3|   US>CA>825|             1|            1|   1343335|  80338993|       3|   US>CA>825|         1|                null|\n",
      "|10ad80c5404191|    1788351|  3059977|       3|   US>CA>803|             3|            1|     40386|   3059977|       3|   US>CA>803|         1|                null|\n",
      "|10c7abb1208431|    1690647| 42901115|       2|   US>LA>622|             1|            1|  16978369|  42901115|       2|   US>LA>622|         1|                null|\n",
      "|10c8c0d0cdd183|    1711369| 54166581|       2|   US>IL>602|             1|            1|    838886|  54166581|       2|   US>IL>602|         1|                null|\n",
      "|10d5f6e5588450|    1767390| 62268660|       1|   US>GA>524|             1|            1|   1017278|  62268660|       1|   US>GA>524|         1|                null|\n",
      "|10e56c29a742bc|    1849065| 55713618|       1|   US>ID>758|             1|            1|    876269|  55859164|       1|   US>ID>758|         1|                null|\n",
      "|10fba98ffa3ec7|    1711459| 74633757|       2|   US>CA>803|             1|            1|   1242470|  74633757|       2|   US>CA>803|         1|                null|\n",
      "|10fba98ffa3ec7|    1711459| 74633757|       2|   US>CA>803|             1|            1|  17094797|  74662306|       2|   US>CA>803|         1|                null|\n",
      "|10ffebe22c5ed4|    1729696| 60515826|       3|   US>CA>862|             1|            1|    979859|  60515826|       3|   US>CA>862|         1|                null|\n",
      "|111f8223424f82|    1324815| 39020247|       1|   US>AZ>753|             1|            1|    507701|  39020247|       1|   US>AZ>753|         1|                null|\n",
      "|119350d2f8d960|    1077588| 45541131|       1|       US>PA|             1|            1|    645961|  45608494|       1|       US>PA|         1|                null|\n",
      "|11c33317b53cd9|    1796937| 57047846|       2|   US>MA>506|             1|            1|    902868|  57047846|       2|   US>MA>506|         1|                null|\n",
      "|11cf74c721cda4|    1582044|  8076730|       2|   US>WA>819|             3|            1|     92306|   8076730|       2|   US>WA>819|         1|                null|\n",
      "|123f3b052950c7|    1068969| 77545887|       2|       CA>AB|             3|            1|   1292930|  77545887|       2|       CA>AB|         1|                null|\n",
      "|1243417cbf7cb1|    1772277| 81551746|       2|       CA>ON|             2|            1|   1365379|  81551746|       2|       CA>ON|         1|                null|\n",
      "|12492d09fd466c|    1303771| 85481308|       2|   US>MI>505|             2|            1|   1431561|  85481308|       2|   US>MI>505|         1|                null|\n",
      "|126474cf7293d1|    1780428| 68765075|       2|   US>MI>505|             1|            1|   1141910|  68765075|       2|   US>MI>505|         1|                null|\n",
      "|127a1b56c1f421|      55922| 62248478|       1|   US>OK>650|             1|            1|   1016893|  62248649|       1|   US>OK>650|         1|                null|\n",
      "|127d828ed1d984|    1729653|  4820986|       1|   US>CA>807|             1|            1|  16885407|   4820986|       1|   US>CA>807|         1|                null|\n",
      "|129a73ae0fb56c|      60164| 43176713|       1|   US>FL>561|             1|            1|  19750009|1087003443|       1|   US>FL>530|         1|                null|\n",
      "|12b2762a520044|      38922| 23419445|       2|       NL>07|             1|            1|  14718112| 976810709|       2|          FI|         1|                null|\n",
      "|12b2762a520044|      38922| 23419445|       2|       NL>07|             1|            1|  15746040|1049569291|       2|          FI|         1|                null|\n",
      "|12b2762a520044|      38922| 23419445|       2|       NL>07|             1|            1|  16874475|1123191914|       2|          FI|         1|                null|\n",
      "|12b2762a520044|      38922| 23419445|       2|       NL>07|             1|            1|  19862324|1123852221|       2|          FI|         1|                null|\n",
      "|12b635378786b5|    1826376| 43648747|       2|       GB>A7|             3|            1|    603088|  43648747|       2|       GB>A7|         1|                null|\n",
      "|12cc39dff1bd40|     430204| 69643699|       2|       GB>Q3|             2|            1|   1157203|  69643699|       2|       GB>Q3|         1|                null|\n",
      "|12d7e7eeb2703e|     959426| 24190179|       2|   US>TX>618|             1|            1|  16916631|  24489096|       2|   US>TX>618|         1|                null|\n",
      "|12e616784353e3|    1664152| 72911539|       2|          US|             1|            1|   1213385|  72911539|       2|          US|         1|                null|\n",
      "+--------------+-----------+---------+--------+------------+--------------+-------------+----------+----------+--------+------------+----------+--------------------+\n",
      "only showing top 33 rows\n",
      "\n"
     ]
    }
   ],
   "source": [
    "page_view_events_matches_with_delta_ts_df.show(33)"
   ]
  },
  {
   "cell_type": "code",
   "execution_count": null,
   "metadata": {
    "collapsed": true
   },
   "outputs": [],
   "source": [
    "%time page_view_events_matches_with_delta_ts_df.describe('timestamp_delta_secs').show()"
   ]
  },
  {
   "cell_type": "markdown",
   "metadata": {},
   "source": [
    "```\n",
    "CPU times: user 172 ms, sys: 48 ms, total: 220 ms\n",
    "Wall time: 17min 47s\n",
    "+-------+--------------------+\n",
    "|summary|timestamp_delta_secs|\n",
    "+-------+--------------------+\n",
    "|  count|            26750921|\n",
    "|   mean|   49323.24790279183|\n",
    "| stddev|   159902.2796012831|\n",
    "|    min|                   0|\n",
    "|    max|             1295724|\n",
    "+-------+--------------------+\n",
    "\n",
    "```"
   ]
  },
  {
   "cell_type": "markdown",
   "metadata": {},
   "source": [
    "As arithmetic mean are very sensitive to large outliers, we analyze the distribution using quantiles. We can see that at least 50% (median) of matching rows on (uuid, document_id) have a delta of 0 seconds (identical), but at 75% quantile we have samples with a delta of around 211 seconds (3.5 min).\n",
    "I guess one possible source of these differences might be that, for some platforms or providers, a page view is logged on page load, and then, after some time in that browser tab, the user clicks in one ad, and a display_id is logged in events dataset with a newer timestamp."
   ]
  },
  {
   "cell_type": "code",
   "execution_count": null,
   "metadata": {
    "collapsed": true
   },
   "outputs": [],
   "source": [
    "quantiles_levels = [0.25, 0.3, 0.35, 0.4, 0.45, 0.5, 0.75]        \n",
    "%time quantiles = page_view_events_matches_with_delta_ts_df.approxQuantile(\"timestamp_delta_secs\", quantiles_levels, 0.05)\n",
    "list(zip(quantiles_levels, quantiles))"
   ]
  },
  {
   "cell_type": "markdown",
   "metadata": {},
   "source": [
    "```\n",
    "[(0.25, 0.0),\n",
    " (0.3, 0.0),\n",
    " (0.35, 0.0),\n",
    " (0.4, 0.0),\n",
    " (0.45, 0.0),\n",
    " (0.5, 0.0),\n",
    " (0.75, 211.0)]\n",
    "```"
   ]
  },
  {
   "cell_type": "markdown",
   "metadata": {},
   "source": [
    "## Left join between page views and events, on fields uuid, document_id and timestamp"
   ]
  },
  {
   "cell_type": "code",
   "execution_count": null,
   "metadata": {
    "collapsed": true
   },
   "outputs": [],
   "source": [
    "page_views_events_joined_by_uuid_document_timestamp = (events_df.alias('events')\n",
    "                                                            .join(page_views_df.alias('page_views'), \n",
    "                                                                   on=['uuid','document_id','timestamp'], \n",
    "                                                                   how='left'))"
   ]
  },
  {
   "cell_type": "code",
   "execution_count": null,
   "metadata": {
    "collapsed": false
   },
   "outputs": [],
   "source": [
    "%time page_view_events_matches_df = (page_views_events_joined_by_uuid_document_timestamp\\\n",
    "                                    .filter('dummyEvent is not null and dummyPageView is not null').count())"
   ]
  },
  {
   "cell_type": "code",
   "execution_count": null,
   "metadata": {
    "collapsed": true
   },
   "outputs": [],
   "source": [
    "page_view_events_matches_df"
   ]
  },
  {
   "cell_type": "markdown",
   "metadata": {},
   "source": [
    "## Left  join on fields uuid, document_id, platform, geo_location and day(timestamp)"
   ]
  },
  {
   "cell_type": "code",
   "execution_count": 208,
   "metadata": {
    "collapsed": true
   },
   "outputs": [],
   "source": [
    "from IPython.core.interactiveshell import InteractiveShell\n",
    "InteractiveShell.ast_node_interactivity = \"all\""
   ]
  },
  {
   "cell_type": "markdown",
   "metadata": {},
   "source": [
    "Extract tday from timestamps from events and page views"
   ]
  },
  {
   "cell_type": "code",
   "execution_count": 210,
   "metadata": {
    "collapsed": true
   },
   "outputs": [],
   "source": [
    "truncate_day_udf = F.udf(lambda ts: int(ts/1000/60/60/24), IntegerType())"
   ]
  },
  {
   "cell_type": "code",
   "execution_count": 213,
   "metadata": {
    "collapsed": true
   },
   "outputs": [],
   "source": [
    "page_views_with_day = page_views_df.withColumn('day', truncate_day_udf('timestamp')).withColumn('dummyPageView', F.lit(1))"
   ]
  },
  {
   "cell_type": "code",
   "execution_count": 214,
   "metadata": {
    "collapsed": true
   },
   "outputs": [],
   "source": [
    "events_with_day = events_df.withColumn('day', truncate_day_udf('timestamp')).withColumn('dummyEvent', F.lit(1))"
   ]
  },
  {
   "cell_type": "markdown",
   "metadata": {},
   "source": [
    "**Now we join the datasets on fields uuid, document_id, platform, geo_location and day(timestamp).\n",
    "This join approach appears to be reasonable, because there are 23120126 resulting rows (exactly the events count, with no duplication) and the count of rows where events have no corresponding page view is 55568 (only 0.24% of events)**"
   ]
  },
  {
   "cell_type": "code",
   "execution_count": 215,
   "metadata": {
    "collapsed": true
   },
   "outputs": [],
   "source": [
    "page_views_join_events_day = events_with_day.alias(\"events\").join(page_views_with_day.alias('page_views'), on=['uuid','document_id','platform','geo_location','day'], how='left')"
   ]
  },
  {
   "cell_type": "code",
   "execution_count": 217,
   "metadata": {
    "collapsed": false
   },
   "outputs": [
    {
     "name": "stdout",
     "output_type": "stream",
     "text": [
      "CPU times: user 22.9 ms, sys: 9.69 ms, total: 32.6 ms\n",
      "Wall time: 1min 16s\n"
     ]
    },
    {
     "data": {
      "text/plain": [
       "23120126"
      ]
     },
     "execution_count": 217,
     "metadata": {},
     "output_type": "execute_result"
    }
   ],
   "source": [
    "%time page_views_join_events_day.count()"
   ]
  },
  {
   "cell_type": "markdown",
   "metadata": {},
   "source": [
    "this relatively few events (0.24% of events) not matching any page view in the same day are due to possible page view and events timestamps around 4am (midnight at Eastern time) being splits in different days, even if delta between them is just some minutes."
   ]
  },
  {
   "cell_type": "code",
   "execution_count": 218,
   "metadata": {
    "collapsed": false
   },
   "outputs": [
    {
     "name": "stdout",
     "output_type": "stream",
     "text": [
      "CPU times: user 23.3 ms, sys: 9.11 ms, total: 32.4 ms\n",
      "Wall time: 1min 16s\n"
     ]
    },
    {
     "data": {
      "text/plain": [
       "22637804"
      ]
     },
     "execution_count": 218,
     "metadata": {},
     "output_type": "execute_result"
    }
   ],
   "source": [
    "events_no_matching_page_views_same_day = page_views_join_events_day.filter('page_views.dummyPageView is null')\n",
    "%time events_no_matching_page_views_same_day.count()"
   ]
  },
  {
   "cell_type": "markdown",
   "metadata": {},
   "source": [
    "## Additional metrics in page_views not in events table using SQL"
   ]
  },
  {
   "cell_type": "code",
   "execution_count": 222,
   "metadata": {
    "collapsed": false
   },
   "outputs": [],
   "source": [
    "page_views_leftjoin_events = (page_views_with_day.alias('page_view').join(events_with_day.alias('events'),\n",
    "                                                                    on=['uuid','document_id','platform','geo_location','day'],\\\n",
    "                                                                    how='left'))"
   ]
  },
  {
   "cell_type": "code",
   "execution_count": 230,
   "metadata": {
    "collapsed": true
   },
   "outputs": [],
   "source": [
    "#Registering \"page_views left join events dataset\" as a view, to use it in a SQL query\n",
    "events_with_day.createOrReplaceTempView('EVENTS')\n",
    "page_views_leftjoin_events.createOrReplaceTempView(\"PAGE_VIEWS_LEFT_JOIN_EVENTS\")"
   ]
  },
  {
   "cell_type": "markdown",
   "metadata": {},
   "source": [
    "maybe a question like: how many users, on a particular document, on a particular platform, from a particular location, on a particular day --- came to a website & had no 'events' <-- click, buy etc"
   ]
  },
  {
   "cell_type": "code",
   "execution_count": 234,
   "metadata": {
    "collapsed": false
   },
   "outputs": [],
   "source": [
    "additional_page_views_by_user_df = spark.sql('''\n",
    "            SELECT additionalPageViewsByUser, COUNT(*) as usersCount FROM\n",
    "                (SELECT UUID, COUNT(*) as additionalPageViewsByUser \n",
    "                FROM PAGE_VIEWS_LEFT_JOIN_EVENTS p \n",
    "                WHERE dummyEvent IS NULL\n",
    "                  AND EXISTS (SELECT uuid FROM EVENTS where uuid = p.uuid) \n",
    "                GROUP BY UUID)\n",
    "            GROUP BY additionalPageViewsByUser''')"
   ]
  },
  {
   "cell_type": "code",
   "execution_count": 235,
   "metadata": {
    "collapsed": false
   },
   "outputs": [
    {
     "name": "stdout",
     "output_type": "stream",
     "text": [
      "CPU times: user 64.4 ms, sys: 29.7 ms, total: 94.1 ms\n",
      "Wall time: 1min 26s\n"
     ]
    },
    {
     "data": {
      "text/html": [
       "<div>\n",
       "<table border=\"1\" class=\"dataframe\">\n",
       "  <thead>\n",
       "    <tr style=\"text-align: right;\">\n",
       "      <th></th>\n",
       "      <th>usersCount</th>\n",
       "    </tr>\n",
       "    <tr>\n",
       "      <th>additionalPageViewsByUser</th>\n",
       "      <th></th>\n",
       "    </tr>\n",
       "  </thead>\n",
       "  <tbody>\n",
       "    <tr>\n",
       "      <th>1</th>\n",
       "      <td>1504883</td>\n",
       "    </tr>\n",
       "    <tr>\n",
       "      <th>2</th>\n",
       "      <td>454659</td>\n",
       "    </tr>\n",
       "    <tr>\n",
       "      <th>3</th>\n",
       "      <td>168291</td>\n",
       "    </tr>\n",
       "    <tr>\n",
       "      <th>4</th>\n",
       "      <td>74184</td>\n",
       "    </tr>\n",
       "    <tr>\n",
       "      <th>5</th>\n",
       "      <td>36497</td>\n",
       "    </tr>\n",
       "    <tr>\n",
       "      <th>6</th>\n",
       "      <td>19497</td>\n",
       "    </tr>\n",
       "    <tr>\n",
       "      <th>7</th>\n",
       "      <td>11174</td>\n",
       "    </tr>\n",
       "    <tr>\n",
       "      <th>8</th>\n",
       "      <td>6469</td>\n",
       "    </tr>\n",
       "    <tr>\n",
       "      <th>9</th>\n",
       "      <td>3928</td>\n",
       "    </tr>\n",
       "    <tr>\n",
       "      <th>10</th>\n",
       "      <td>2741</td>\n",
       "    </tr>\n",
       "  </tbody>\n",
       "</table>\n",
       "</div>"
      ],
      "text/plain": [
       "                           usersCount\n",
       "additionalPageViewsByUser            \n",
       "1                             1504883\n",
       "2                              454659\n",
       "3                              168291\n",
       "4                               74184\n",
       "5                               36497\n",
       "6                               19497\n",
       "7                               11174\n",
       "8                                6469\n",
       "9                                3928\n",
       "10                               2741"
      ]
     },
     "execution_count": 235,
     "metadata": {},
     "output_type": "execute_result"
    }
   ],
   "source": [
    "%time additional_page_views_by_user_pandas = additional_page_views_by_user_df.toPandas()\n",
    "additional_page_views_by_user_pandas = additional_page_views_by_user_pandas.set_index('additionalPageViewsByUser').sort_index()\n",
    "additional_page_views_by_user_pandas.head(10)"
   ]
  },
  {
   "cell_type": "markdown",
   "metadata": {},
   "source": [
    "288031 users have only 1 additional page view (which is not in events dataset), 1654220 users have exactly 2 additional page views, etc."
   ]
  },
  {
   "cell_type": "code",
   "execution_count": 236,
   "metadata": {
    "collapsed": false
   },
   "outputs": [
    {
     "data": {
      "text/plain": [
       "2290598"
      ]
     },
     "execution_count": 236,
     "metadata": {},
     "output_type": "execute_result"
    }
   ],
   "source": [
    "users_with_additional_page_views_count = additional_page_views_by_user_pandas['usersCount'].sum()\n",
    "users_with_additional_page_views_count"
   ]
  },
  {
   "cell_type": "code",
   "execution_count": 238,
   "metadata": {
    "collapsed": false
   },
   "outputs": [
    {
     "data": {
      "text/plain": [
       "17504369"
      ]
     },
     "execution_count": 238,
     "metadata": {},
     "output_type": "execute_result"
    }
   ],
   "source": [
    "users_without_additional_page_view = distinct_event_users - users_with_additional_page_views_count\n",
    "users_without_additional_page_view"
   ]
  },
  {
   "cell_type": "code",
   "execution_count": 239,
   "metadata": {
    "collapsed": false
   },
   "outputs": [
    {
     "data": {
      "text/plain": [
       "<matplotlib.axes._subplots.AxesSubplot at 0x118ec25d0>"
      ]
     },
     "execution_count": 239,
     "metadata": {},
     "output_type": "execute_result"
    },
    {
     "data": {
      "image/png": "[encoded data removed]",
      "text/plain": [
       "<matplotlib.figure.Figure at 0x118ed2190>"
      ]
     },
     "metadata": {},
     "output_type": "display_data"
    }
   ],
   "source": [
    "additional_page_views_by_user_pandas.head(20).plot.bar(y='usersCount') # <<-- Poisson distribution"
   ]
  },
  {
   "cell_type": "code",
   "execution_count": 240,
   "metadata": {
    "collapsed": false
   },
   "outputs": [
    {
     "data": {
      "text/html": [
       "<div>\n",
       "<table border=\"1\" class=\"dataframe\">\n",
       "  <thead>\n",
       "    <tr style=\"text-align: right;\">\n",
       "      <th></th>\n",
       "      <th>usersCount</th>\n",
       "      <th>cum_perc</th>\n",
       "    </tr>\n",
       "    <tr>\n",
       "      <th>additionalPageViewsByUser</th>\n",
       "      <th></th>\n",
       "      <th></th>\n",
       "    </tr>\n",
       "  </thead>\n",
       "  <tbody>\n",
       "    <tr>\n",
       "      <th>1</th>\n",
       "      <td>1504883</td>\n",
       "      <td>65.698259</td>\n",
       "    </tr>\n",
       "    <tr>\n",
       "      <th>2</th>\n",
       "      <td>454659</td>\n",
       "      <td>85.547180</td>\n",
       "    </tr>\n",
       "    <tr>\n",
       "      <th>3</th>\n",
       "      <td>168291</td>\n",
       "      <td>92.894214</td>\n",
       "    </tr>\n",
       "    <tr>\n",
       "      <th>4</th>\n",
       "      <td>74184</td>\n",
       "      <td>96.132844</td>\n",
       "    </tr>\n",
       "    <tr>\n",
       "      <th>5</th>\n",
       "      <td>36497</td>\n",
       "      <td>97.726183</td>\n",
       "    </tr>\n",
       "    <tr>\n",
       "      <th>6</th>\n",
       "      <td>19497</td>\n",
       "      <td>98.577358</td>\n",
       "    </tr>\n",
       "    <tr>\n",
       "      <th>7</th>\n",
       "      <td>11174</td>\n",
       "      <td>99.065179</td>\n",
       "    </tr>\n",
       "    <tr>\n",
       "      <th>8</th>\n",
       "      <td>6469</td>\n",
       "      <td>99.347594</td>\n",
       "    </tr>\n",
       "    <tr>\n",
       "      <th>9</th>\n",
       "      <td>3928</td>\n",
       "      <td>99.519078</td>\n",
       "    </tr>\n",
       "    <tr>\n",
       "      <th>10</th>\n",
       "      <td>2741</td>\n",
       "      <td>99.638741</td>\n",
       "    </tr>\n",
       "  </tbody>\n",
       "</table>\n",
       "</div>"
      ],
      "text/plain": [
       "                           usersCount   cum_perc\n",
       "additionalPageViewsByUser                       \n",
       "1                             1504883  65.698259\n",
       "2                              454659  85.547180\n",
       "3                              168291  92.894214\n",
       "4                               74184  96.132844\n",
       "5                               36497  97.726183\n",
       "6                               19497  98.577358\n",
       "7                               11174  99.065179\n",
       "8                                6469  99.347594\n",
       "9                                3928  99.519078\n",
       "10                               2741  99.638741"
      ]
     },
     "execution_count": 240,
     "metadata": {},
     "output_type": "execute_result"
    }
   ],
   "source": [
    "additional_page_views_by_user_pandas['cum_perc'] = (additional_page_views_by_user_pandas['usersCount'].cumsum() / users_with_additional_page_views_count) * 100\n",
    "additional_page_views_by_user_pandas.head(10)"
   ]
  },
  {
   "cell_type": "code",
   "execution_count": 241,
   "metadata": {
    "collapsed": false
   },
   "outputs": [
    {
     "data": {
      "text/plain": [
       "<matplotlib.axes._subplots.AxesSubplot at 0x119007c10>"
      ]
     },
     "execution_count": 241,
     "metadata": {},
     "output_type": "execute_result"
    },
    {
     "data": {
      "image/png": "[encoded data removed]",
      "text/plain": [
       "<matplotlib.figure.Figure at 0x119022d50>"
      ]
     },
     "metadata": {},
     "output_type": "display_data"
    }
   ],
   "source": [
    "additional_page_views_by_user_pandas.head(20).plot.line(y='cum_perc')"
   ]
  },
  {
   "cell_type": "code",
   "execution_count": 242,
   "metadata": {
    "collapsed": false
   },
   "outputs": [
    {
     "data": {
      "text/html": [
       "<div>\n",
       "<table border=\"1\" class=\"dataframe\">\n",
       "  <thead>\n",
       "    <tr style=\"text-align: right;\">\n",
       "      <th></th>\n",
       "      <th>usersCount</th>\n",
       "      <th>cum_perc</th>\n",
       "    </tr>\n",
       "    <tr>\n",
       "      <th>additionalPageViewsByUser</th>\n",
       "      <th></th>\n",
       "      <th></th>\n",
       "    </tr>\n",
       "  </thead>\n",
       "  <tbody>\n",
       "    <tr>\n",
       "      <th>25</th>\n",
       "      <td>15</td>\n",
       "      <td>99.997555</td>\n",
       "    </tr>\n",
       "    <tr>\n",
       "      <th>26</th>\n",
       "      <td>13</td>\n",
       "      <td>99.998123</td>\n",
       "    </tr>\n",
       "    <tr>\n",
       "      <th>27</th>\n",
       "      <td>15</td>\n",
       "      <td>99.998778</td>\n",
       "    </tr>\n",
       "    <tr>\n",
       "      <th>28</th>\n",
       "      <td>7</td>\n",
       "      <td>99.999083</td>\n",
       "    </tr>\n",
       "    <tr>\n",
       "      <th>29</th>\n",
       "      <td>7</td>\n",
       "      <td>99.999389</td>\n",
       "    </tr>\n",
       "    <tr>\n",
       "      <th>30</th>\n",
       "      <td>5</td>\n",
       "      <td>99.999607</td>\n",
       "    </tr>\n",
       "    <tr>\n",
       "      <th>31</th>\n",
       "      <td>5</td>\n",
       "      <td>99.999825</td>\n",
       "    </tr>\n",
       "    <tr>\n",
       "      <th>34</th>\n",
       "      <td>2</td>\n",
       "      <td>99.999913</td>\n",
       "    </tr>\n",
       "    <tr>\n",
       "      <th>37</th>\n",
       "      <td>1</td>\n",
       "      <td>99.999956</td>\n",
       "    </tr>\n",
       "    <tr>\n",
       "      <th>38</th>\n",
       "      <td>1</td>\n",
       "      <td>100.000000</td>\n",
       "    </tr>\n",
       "  </tbody>\n",
       "</table>\n",
       "</div>"
      ],
      "text/plain": [
       "                           usersCount    cum_perc\n",
       "additionalPageViewsByUser                        \n",
       "25                                 15   99.997555\n",
       "26                                 13   99.998123\n",
       "27                                 15   99.998778\n",
       "28                                  7   99.999083\n",
       "29                                  7   99.999389\n",
       "30                                  5   99.999607\n",
       "31                                  5   99.999825\n",
       "34                                  2   99.999913\n",
       "37                                  1   99.999956\n",
       "38                                  1  100.000000"
      ]
     },
     "execution_count": 242,
     "metadata": {},
     "output_type": "execute_result"
    }
   ],
   "source": [
    "additional_page_views_by_user_pandas.tail(10)"
   ]
  },
  {
   "cell_type": "markdown",
   "metadata": {},
   "source": [
    "-----"
   ]
  },
  {
   "cell_type": "markdown",
   "metadata": {},
   "source": [
    "------"
   ]
  },
  {
   "cell_type": "markdown",
   "metadata": {},
   "source": [
    "# EDA PART-2"
   ]
  },
  {
   "cell_type": "code",
   "execution_count": 247,
   "metadata": {
    "collapsed": false
   },
   "outputs": [
    {
     "name": "stdout",
     "output_type": "stream",
     "text": [
      "# File sizes\n",
      ".DS_Store                     0.0MB\n",
      "clicks_test.csv               506.0MB\n",
      "clicks_train.csv              1486.0MB\n",
      "cookies.txt                   0.0MB\n",
      "events.csv                    1208.0MB\n",
      "page_views.csv                1972.0MB\n",
      "page_views_sample.csv         454.0MB\n",
      "README.md                     0.0MB\n"
     ]
    }
   ],
   "source": [
    "import numpy as np # linear algebra\n",
    "import pandas as pd # data processing, CSV file I/O (e.g. pd.read_csv)\n",
    "import os\n",
    "import gc # We're gonna be clearing memory a lot\n",
    "import matplotlib.pyplot as plt\n",
    "import seaborn as sns\n",
    "%matplotlib inline\n",
    "\n",
    "p = sns.color_palette()\n",
    "print('# File sizes')\n",
    "for f in os.listdir('data/'):\n",
    "    if 'zip' not in f:\n",
    "        print(f.ljust(30) + str(round(os.path.getsize('data/' + f) / 1000000, 2)) + 'MB')"
   ]
  },
  {
   "cell_type": "markdown",
   "metadata": {},
   "source": [
    "Wow, that's a lot of data! Let's start off by looking at the clicks_train.csv and clicks_test.csv files, as these contain the main things we need.<br>\n",
    "Each display has a certain number of adverts. Let's look at the distribution of these advert counts, and see if they are consistent between train and test."
   ]
  },
  {
   "cell_type": "code",
   "execution_count": 253,
   "metadata": {
    "collapsed": false,
    "scrolled": true
   },
   "outputs": [],
   "source": [
    "df_train = pd.read_csv('data/clicks_train.csv')\n",
    "df_test = pd.read_csv('data/clicks_test.csv')"
   ]
  },
  {
   "cell_type": "code",
   "execution_count": 254,
   "metadata": {
    "collapsed": false
   },
   "outputs": [
    {
     "data": {
      "text/html": [
       "<div>\n",
       "<table border=\"1\" class=\"dataframe\">\n",
       "  <thead>\n",
       "    <tr style=\"text-align: right;\">\n",
       "      <th></th>\n",
       "      <th>display_id</th>\n",
       "      <th>ad_id</th>\n",
       "      <th>clicked</th>\n",
       "    </tr>\n",
       "  </thead>\n",
       "  <tbody>\n",
       "    <tr>\n",
       "      <th>0</th>\n",
       "      <td>1</td>\n",
       "      <td>42337</td>\n",
       "      <td>0</td>\n",
       "    </tr>\n",
       "    <tr>\n",
       "      <th>1</th>\n",
       "      <td>1</td>\n",
       "      <td>139684</td>\n",
       "      <td>0</td>\n",
       "    </tr>\n",
       "    <tr>\n",
       "      <th>2</th>\n",
       "      <td>1</td>\n",
       "      <td>144739</td>\n",
       "      <td>1</td>\n",
       "    </tr>\n",
       "    <tr>\n",
       "      <th>3</th>\n",
       "      <td>1</td>\n",
       "      <td>156824</td>\n",
       "      <td>0</td>\n",
       "    </tr>\n",
       "    <tr>\n",
       "      <th>4</th>\n",
       "      <td>1</td>\n",
       "      <td>279295</td>\n",
       "      <td>0</td>\n",
       "    </tr>\n",
       "  </tbody>\n",
       "</table>\n",
       "</div>"
      ],
      "text/plain": [
       "   display_id   ad_id  clicked\n",
       "0           1   42337        0\n",
       "1           1  139684        0\n",
       "2           1  144739        1\n",
       "3           1  156824        0\n",
       "4           1  279295        0"
      ]
     },
     "execution_count": 254,
     "metadata": {},
     "output_type": "execute_result"
    }
   ],
   "source": [
    "df_train.head()"
   ]
  },
  {
   "cell_type": "code",
   "execution_count": 260,
   "metadata": {
    "collapsed": false
   },
   "outputs": [
    {
     "data": {
      "text/plain": [
       "<matplotlib.figure.Figure at 0x1191d2f10>"
      ]
     },
     "execution_count": 260,
     "metadata": {},
     "output_type": "execute_result"
    },
    {
     "data": {
      "text/plain": [
       "<matplotlib.axes._subplots.AxesSubplot at 0x1191d2cd0>"
      ]
     },
     "execution_count": 260,
     "metadata": {},
     "output_type": "execute_result"
    },
    {
     "data": {
      "text/plain": [
       "<matplotlib.axes._subplots.AxesSubplot at 0x1191d2cd0>"
      ]
     },
     "execution_count": 260,
     "metadata": {},
     "output_type": "execute_result"
    },
    {
     "data": {
      "text/plain": [
       "<matplotlib.legend.Legend at 0x1191d2e10>"
      ]
     },
     "execution_count": 260,
     "metadata": {},
     "output_type": "execute_result"
    },
    {
     "data": {
      "text/plain": [
       "<matplotlib.text.Text at 0x1191fe090>"
      ]
     },
     "execution_count": 260,
     "metadata": {},
     "output_type": "execute_result"
    },
    {
     "data": {
      "text/plain": [
       "<matplotlib.text.Text at 0x119221610>"
      ]
     },
     "execution_count": 260,
     "metadata": {},
     "output_type": "execute_result"
    },
    {
     "data": {
      "image/png": "[encoded data removed]",
      "text/plain": [
       "<matplotlib.figure.Figure at 0x1191d2f10>"
      ]
     },
     "metadata": {},
     "output_type": "display_data"
    }
   ],
   "source": [
    "sizes_train = df_train.groupby('display_id')['ad_id'].count().value_counts()\n",
    "sizes_test = df_test.groupby('display_id')['ad_id'].count().value_counts()\n",
    "sizes_train = sizes_train / np.sum(sizes_train)\n",
    "sizes_test = sizes_test / np.sum(sizes_test)\n",
    "\n",
    "plt.figure(figsize=(12,4))\n",
    "sns.barplot(sizes_train.index, sizes_train.values, alpha=0.8, color=p[0], label='train')\n",
    "sns.barplot(sizes_test.index, sizes_test.values, alpha=0.6, color=p[1], label='test')\n",
    "plt.legend()\n",
    "plt.xlabel('Number of Ads in display', fontsize=12)\n",
    "plt.ylabel('Proportion of set', fontsize=12)"
   ]
  },
  {
   "cell_type": "code",
   "execution_count": null,
   "metadata": {
    "collapsed": false
   },
   "outputs": [],
   "source": [
    "sizes_train"
   ]
  },
  {
   "cell_type": "code",
   "execution_count": null,
   "metadata": {
    "collapsed": true
   },
   "outputs": [],
   "source": []
  }
 ],
 "metadata": {
  "anaconda-cloud": {},
  "kernelspec": {
   "display_name": "Python [conda env:pyspark]",
   "language": "python",
   "name": "conda-env-pyspark-py"
  },
  "language_info": {
   "codemirror_mode": {
    "name": "ipython",
    "version": 2
   },
   "file_extension": ".py",
   "mimetype": "text/x-python",
   "name": "python",
   "nbconvert_exporter": "python",
   "pygments_lexer": "ipython2",
   "version": "2.7.13"
  }
 },
 "nbformat": 4,
 "nbformat_minor": 2
}
